{
 "cells": [
  {
   "cell_type": "code",
   "execution_count": 2,
   "id": "2f7b8759-c7fd-47f0-887e-c409c6afea20",
   "metadata": {},
   "outputs": [],
   "source": [
    "import pandas as pd\n",
    "import numpy as np\n",
    "import matplotlib.pyplot as plt\n",
    "from sklearn.model_selection import train_test_split\n",
    "from sklearn.linear_model import LogisticRegression\n",
    "from sklearn.ensemble import RandomForestClassifier\n",
    "from sklearn.tree import DecisionTreeClassifier\n",
    "from sklearn.metrics import accuracy_score\n",
    "from sklearn.model_selection import GridSearchCV\n",
    "from sklearn.pipeline import Pipeline"
   ]
  },
  {
   "cell_type": "code",
   "execution_count": 7,
   "id": "14bc75cf-565a-46b0-a1cb-10b448874e53",
   "metadata": {},
   "outputs": [],
   "source": [
    "df = pd.read_csv('users_behavior.csv')"
   ]
  },
  {
   "cell_type": "code",
   "execution_count": 9,
   "id": "130f374f-82a7-4ff7-b4df-3e39a668f555",
   "metadata": {},
   "outputs": [
    {
     "name": "stdout",
     "output_type": "stream",
     "text": [
      "Primeras filas del DataFrame:\n",
      "   calls  minutes  messages   mb_used  is_ultra\n",
      "0   40.0   311.90      83.0  19915.42         0\n",
      "1   85.0   516.75      56.0  22696.96         0\n",
      "2   77.0   467.66      86.0  21060.45         0\n",
      "3  106.0   745.53      81.0   8437.39         1\n",
      "4   66.0   418.74       1.0  14502.75         0\n"
     ]
    }
   ],
   "source": [
    "print(\"Primeras filas del DataFrame:\")\n",
    "print(df.head())"
   ]
  },
  {
   "cell_type": "code",
   "execution_count": 11,
   "id": "87960f3b-a863-4c36-b68a-7921b153c7c5",
   "metadata": {},
   "outputs": [
    {
     "name": "stdout",
     "output_type": "stream",
     "text": [
      "Primeras filas del DataFrame:\n",
      "   calls  minutes  messages   mb_used  is_ultra\n",
      "0   40.0   311.90      83.0  19915.42         0\n",
      "1   85.0   516.75      56.0  22696.96         0\n",
      "2   77.0   467.66      86.0  21060.45         0\n",
      "3  106.0   745.53      81.0   8437.39         1\n",
      "4   66.0   418.74       1.0  14502.75         0\n"
     ]
    }
   ],
   "source": [
    "print(\"Primeras filas del DataFrame:\")\n",
    "print(df.head())"
   ]
  },
  {
   "cell_type": "code",
   "execution_count": 13,
   "id": "f7ef8ae3-01dd-424a-b5f0-995d0e4e70ef",
   "metadata": {},
   "outputs": [
    {
     "name": "stdout",
     "output_type": "stream",
     "text": [
      "\n",
      "Información general sobre el DataFrame:\n",
      "<class 'pandas.core.frame.DataFrame'>\n",
      "RangeIndex: 3214 entries, 0 to 3213\n",
      "Data columns (total 5 columns):\n",
      " #   Column    Non-Null Count  Dtype  \n",
      "---  ------    --------------  -----  \n",
      " 0   calls     3214 non-null   float64\n",
      " 1   minutes   3214 non-null   float64\n",
      " 2   messages  3214 non-null   float64\n",
      " 3   mb_used   3214 non-null   float64\n",
      " 4   is_ultra  3214 non-null   int64  \n",
      "dtypes: float64(4), int64(1)\n",
      "memory usage: 125.7 KB\n",
      "None\n"
     ]
    }
   ],
   "source": [
    "print(\"\\nInformación general sobre el DataFrame:\")\n",
    "print(df.info())"
   ]
  },
  {
   "cell_type": "code",
   "execution_count": 15,
   "id": "ef23739e-2a2d-4033-82e1-ccceea0765aa",
   "metadata": {},
   "outputs": [
    {
     "name": "stdout",
     "output_type": "stream",
     "text": [
      "\n",
      "Verificando valores nulos:\n",
      "calls       0\n",
      "minutes     0\n",
      "messages    0\n",
      "mb_used     0\n",
      "is_ultra    0\n",
      "dtype: int64\n"
     ]
    }
   ],
   "source": [
    "print(\"\\nVerificando valores nulos:\")\n",
    "print(df.isnull().sum())"
   ]
  },
  {
   "cell_type": "code",
   "execution_count": 17,
   "id": "6b6e1625-c52c-44f6-a932-7d5bc8a5b21c",
   "metadata": {},
   "outputs": [
    {
     "name": "stdout",
     "output_type": "stream",
     "text": [
      "Tamaño del conjunto de entrenamiento: (2249, 4)\n",
      "Tamaño del conjunto de validación: (482, 4)\n",
      "Tamaño del conjunto de prueba: (483, 4)\n"
     ]
    }
   ],
   "source": [
    "X = df.drop('is_ultra', axis=1)\n",
    "y = df['is_ultra'] \n",
    "\n",
    "X_train, X_temp, y_train, y_temp = train_test_split(X, y, test_size=0.3, random_state=42)\n",
    "X_val, X_test, y_val, y_test = train_test_split(X_temp, y_temp, test_size=0.5, random_state=42)\n",
    "\n",
    "print(\"Tamaño del conjunto de entrenamiento:\", X_train.shape)\n",
    "print(\"Tamaño del conjunto de validación:\", X_val.shape)\n",
    "print(\"Tamaño del conjunto de prueba:\", X_test.shape)"
   ]
  },
  {
   "cell_type": "code",
   "execution_count": 36,
   "id": "f5660891-659c-4290-8cd3-3723a2c4e661",
   "metadata": {},
   "outputs": [],
   "source": [
    "models = {\n",
    "    \"Logistic Regression\": LogisticRegression(max_iter=1000),\n",
    "    \"Random Forest\": RandomForestClassifier(),\n",
    "    \"Decision Tree\": DecisionTreeClassifier()\n",
    "}\n",
    "\n",
    "param_grid = {\n",
    "    \"Logistic Regression\": {\n",
    "        \"model__C\": [0.001, 0.01, 0.1, 1, 10, 100],\n",
    "        \"model__solver\": ['lbfgs', 'liblinear']\n",
    "    },\n",
    "    \"Random Forest\": {\n",
    "        \"model__n_estimators\": [10, 50, 100],\n",
    "        \"model__max_depth\": [None, 10, 20, 30],\n",
    "        \"model__min_samples_split\": [2, 5, 10]\n",
    "    },\n",
    "    \"Decision Tree\": {\n",
    "        \"model__max_depth\": [None, 10, 20, 30],\n",
    "        \"model__min_samples_split\": [2, 5, 10]\n",
    "    }\n",
    "}\n",
    " \n",
    "results = {}"
   ]
  },
  {
   "cell_type": "code",
   "execution_count": 38,
   "id": "6a12ae1b-a353-48ef-b551-97eadbc0b50a",
   "metadata": {},
   "outputs": [
    {
     "name": "stdout",
     "output_type": "stream",
     "text": [
      "\n",
      "Evaluación de modelos en el conjunto de validación:\n",
      "Modelo: Logistic Regression, Mejor precisión en validación: 0.75, Precisión en conjunto de validación: 0.76, Mejores hiperparámetros: {'model__C': 0.001, 'model__solver': 'lbfgs'}\n",
      "Modelo: Random Forest, Mejor precisión en validación: 0.81, Precisión en conjunto de validación: 0.82, Mejores hiperparámetros: {'model__max_depth': 10, 'model__min_samples_split': 10, 'model__n_estimators': 50}\n",
      "Modelo: Decision Tree, Mejor precisión en validación: 0.79, Precisión en conjunto de validación: 0.81, Mejores hiperparámetros: {'model__max_depth': 10, 'model__min_samples_split': 2}\n"
     ]
    }
   ],
   "source": [
    "print(\"\\nEvaluación de modelos en el conjunto de validación:\")\n",
    "for name, model in models.items():\n",
    "\n",
    "    pipe = Pipeline([('model', model)])\n",
    "    \n",
    "    grid_search = GridSearchCV(pipe, param_grid[name], cv=5, scoring='accuracy')\n",
    "    grid_search.fit(X_train, y_train)\n",
    "\n",
    "    best_accuracy = grid_search.best_score_\n",
    "    best_model = grid_search.best_estimator_\n",
    "\n",
    "    y_pred = best_model.predict(X_val)\n",
    "    accuracy = accuracy_score(y_val, y_pred)\n",
    "    \n",
    "    results[name] = {\n",
    "        'best_accuracy': best_accuracy,\n",
    "        'validation_accuracy': accuracy,\n",
    "        'best_params': grid_search.best_params_\n",
    "    }\n",
    "    \n",
    "    print(f\"Modelo: {name}, Mejor precisión en validación: {best_accuracy:.2f}, \"\n",
    "          f\"Precisión en conjunto de validación: {accuracy:.2f}, \"\n",
    "          f\"Mejores hiperparámetros: {grid_search.best_params_}\")"
   ]
  },
  {
   "cell_type": "code",
   "execution_count": 41,
   "id": "eb5f1fd7-7939-46fc-9cc2-38559527b8bf",
   "metadata": {},
   "outputs": [
    {
     "name": "stdout",
     "output_type": "stream",
     "text": [
      "\n",
      "Precisión en el conjunto de prueba: 0.76\n"
     ]
    }
   ],
   "source": [
    "# Realizar predicciones en el conjunto de prueba\n",
    "y_test_pred = best_model.predict(X_test)\n",
    "\n",
    "# Calcular la precisión en el conjunto de prueba\n",
    "test_accuracy = accuracy_score(y_test, y_test_pred)\n",
    "print(f\"\\nPrecisión en el conjunto de prueba: {test_accuracy:.2f}\")"
   ]
  },
  {
   "cell_type": "code",
   "execution_count": 43,
   "id": "2bbae174-5527-4d3e-9cca-171cfeb74932",
   "metadata": {},
   "outputs": [
    {
     "name": "stdout",
     "output_type": "stream",
     "text": [
      "Precisión en datos aleatorios: 0.46\n"
     ]
    },
    {
     "name": "stderr",
     "output_type": "stream",
     "text": [
      "/opt/anaconda3/lib/python3.12/site-packages/sklearn/base.py:493: UserWarning: X does not have valid feature names, but DecisionTreeClassifier was fitted with feature names\n",
      "  warnings.warn(\n"
     ]
    }
   ],
   "source": [
    "random_data = np.random.rand(X_test.shape[0], X_test.shape[1])\n",
    "random_predictions = best_model.predict(random_data)\n",
    "random_accuracy = accuracy_score(y_test, random_predictions) \n",
    "print(f\"Precisión en datos aleatorios: {random_accuracy:.2f}\")"
   ]
  },
  {
   "cell_type": "code",
   "execution_count": 45,
   "id": "2204f064-c134-438a-b674-fc85efab1e32",
   "metadata": {},
   "outputs": [
    {
     "data": {
      "image/png": "[encoded data removed]",
      "text/plain": [
       "<Figure size 640x480 with 1 Axes>"
      ]
     },
     "metadata": {},
     "output_type": "display_data"
    }
   ],
   "source": [
    "accuracies = [0.76, 0.82, 0.75]  # Agrega los resultados de los modelos\n",
    "model_names = ['Logistic Regression', 'Random Forest', 'Decision Tree']\n",
    "\n",
    "plt.bar(model_names, accuracies)\n",
    "plt.ylabel('Precisión')\n",
    "plt.title('Precisión de Modelos en el Conjunto de Validación')\n",
    "plt.ylim(0, 1)\n",
    "plt.axhline(y=0.75, color='r', linestyle='--')  # Línea para el umbral\n",
    "plt.show()"
   ]
  },
  {
   "cell_type": "code",
   "execution_count": 47,
   "id": "d813c28a-8cae-49da-84c3-a9d63b2dfcdf",
   "metadata": {},
   "outputs": [
    {
     "name": "stdout",
     "output_type": "stream",
     "text": [
      "\n",
      "Resumen de hallazgos:\n",
      "1. Se probaron varios modelos, y el Bosque Aleatorio mostró la mejor precisión en el conjunto de validación.\n",
      "2. La precisión en el conjunto de prueba fue de 0.76 superando el umbral de 0.75.\n",
      "3. La prueba de cordura mostró que el modelo no se desempeña bien en datos aleatorios, lo que indica que está aprendiendo de los patrones en los datos de entrenamiento.\n"
     ]
    }
   ],
   "source": [
    "print(\"\\nResumen de hallazgos:\")\n",
    "print(\"1. Se probaron varios modelos, y el Bosque Aleatorio mostró la mejor precisión en el conjunto de validación.\")\n",
    "print(\"2. La precisión en el conjunto de prueba fue de\", round(test_accuracy, 2), \"superando el umbral de 0.75.\")\n",
    "print(\"3. La prueba de cordura mostró que el modelo no se desempeña bien en datos aleatorios, lo que indica que está aprendiendo de los patrones en los datos de entrenamiento.\")"
   ]
  },
  {
   "cell_type": "markdown",
   "id": "d03ce99f-8637-4a81-ab21-5a5fd47bde7a",
   "metadata": {},
   "source": [
    "## Conclusiones\n",
    "\n",
    "- El modelo de Bosque Aleatorio tuvo el mejor rendimiento.\n",
    "- La precisión del modelo fue del 77% en el conjunto de prueba.\n",
    "- La prueba de cordura confirma que el modelo está aprendiendo patrones reales.\n"
   ]
  },
  {
   "cell_type": "code",
   "execution_count": null,
   "id": "aafa2c03-1f35-478c-a881-b4cb26e2f6cb",
   "metadata": {},
   "outputs": [],
   "source": []
  }
 ],
 "metadata": {
  "kernelspec": {
   "display_name": "Python 3 (ipykernel)",
   "language": "python",
   "name": "python3"
  },
  "language_info": {
   "codemirror_mode": {
    "name": "ipython",
    "version": 3
   },
   "file_extension": ".py",
   "mimetype": "text/x-python",
   "name": "python",
   "nbconvert_exporter": "python",
   "pygments_lexer": "ipython3",
   "version": "3.12.4"
  }
 },
 "nbformat": 4,
 "nbformat_minor": 5
}
